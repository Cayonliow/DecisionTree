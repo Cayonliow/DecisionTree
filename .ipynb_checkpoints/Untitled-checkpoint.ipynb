{
 "cells": [
  {
   "cell_type": "markdown",
   "metadata": {},
   "source": [
    "# Data Mining Project2"
   ]
  },
  {
   "cell_type": "code",
   "execution_count": 20,
   "metadata": {},
   "outputs": [],
   "source": [
    "import csv\n",
    "import numpy as np\n",
    "import random\n",
    "from sklearn.model_selection import train_test_split\n",
    "from sklearn import tree\n",
    "from sklearn.ensemble import RandomForestClassifier\n",
    "from sklearn.metrics import accuracy_score\n",
    "import graphviz \n",
    "from graphviz import render\n",
    "from graphviz import Source"
   ]
  },
  {
   "cell_type": "markdown",
   "metadata": {},
   "source": [
    "## Step 1: Design a set of rules to classify data\n",
    "The problem designed whether he/she is charming\n",
    "\n",
    "there are 5 features for the problem\n",
    "* `Height`\n",
    "* `Weight`\n",
    "* `Kindness` whether is kindness\n",
    "* `IQ`\n",
    "* `Smoker` - whether a smoker\n",
    "\n",
    "the number of data = 10000"
   ]
  },
  {
   "cell_type": "markdown",
   "metadata": {},
   "source": [
    "### Absolutely right rule\n",
    "Height (>170cm), Weight(>50kg, <100kg), Kindness(yes), IQ(>80), Smoker(no) --->>> Charming"
   ]
  },
  {
   "cell_type": "code",
   "execution_count": 2,
   "metadata": {},
   "outputs": [],
   "source": [
    "numberdata = 10000\n",
    "data = np.zeros([numberdata, 5]) \n",
    "label = np.zeros(numberdata)"
   ]
  },
  {
   "cell_type": "code",
   "execution_count": 3,
   "metadata": {},
   "outputs": [],
   "source": [
    "# y=0\n",
    "# for i in range(1000):\n",
    "#     if i % 7 == 0 or i % 3 == 0:\n",
    "#         y+=1\n",
    "#         data[i][0] = round(random.uniform(160,210), 2)\n",
    "#         data[i][1] = random.randint(50,100)\n",
    "#         data[i][2] = 1 #'yes'\n",
    "#         data[i][3] = random.randint(80,200)\n",
    "#         data[i][4] = 0 #'no'\n",
    "#         label[i] = 1\n",
    "#     else:\n",
    "#         data[i][0] = round(random.uniform(150,170), 2)\n",
    "#         data[i][1] = random.choice([random.randint(35,50), random.randint(100,200)])\n",
    "#         data[i][2] = random.randint(0,1)\n",
    "#         data[i][3] = random.randint(30,120)\n",
    "#         data[i][4] = random.randint(0,1)"
   ]
  },
  {
   "cell_type": "markdown",
   "metadata": {},
   "source": [
    "Write the features into `csv` format"
   ]
  },
  {
   "cell_type": "code",
   "execution_count": 4,
   "metadata": {},
   "outputs": [],
   "source": [
    "# with open('dataset.csv', 'w', newline='') as csvfile:\n",
    "    \n",
    "#     writer = csv.writer(csvfile)\n",
    "#     writer.writerow(['Height', 'Weight', 'Kindness', 'IQ', 'Smoker'])\n",
    "#     for i in range(numberdata):\n",
    "#          writer.writerow(data[i])\n",
    "\n",
    "# with open('label.csv', 'w', newline='') as csvfile:\n",
    "    \n",
    "#     writer = csv.writer(csvfile)\n",
    "#     writer.writerow(['Charming?'])\n",
    "#     for i in range(numberdata):\n",
    "#          writer.writerow([int(label[i])])"
   ]
  },
  {
   "cell_type": "markdown",
   "metadata": {},
   "source": [
    "Load the data from the generated `.csv` file "
   ]
  },
  {
   "cell_type": "code",
   "execution_count": 5,
   "metadata": {},
   "outputs": [],
   "source": [
    "X = []\n",
    "with open('dataset.csv', 'r', newline='') as csvfile:\n",
    "    rows = csv.reader(csvfile)\n",
    "    for row in rows:\n",
    "        X.append(row)\n",
    "        \n",
    "X = np.array(X[1:])\n",
    "\n",
    "Y = []\n",
    "with open('label.csv', 'r', newline='') as csvfile:\n",
    "    rows = csv.reader(csvfile)\n",
    "    for row in rows:\n",
    "        Y.append(row)\n",
    "        \n",
    "Y = np.array(Y[1:])"
   ]
  },
  {
   "cell_type": "markdown",
   "metadata": {},
   "source": [
    "Cross Validation\n",
    "* training data = 67% \n",
    "* testing data = 33%"
   ]
  },
  {
   "cell_type": "code",
   "execution_count": 6,
   "metadata": {},
   "outputs": [
    {
     "name": "stdout",
     "output_type": "stream",
     "text": [
      "(6700, 5) (3300, 5) (6700, 1) (3300, 1)\n"
     ]
    }
   ],
   "source": [
    "X_train, X_test, Y_train, Y_test = train_test_split(X, Y, test_size=0.33)\n",
    "print(X_train.shape, X_test.shape, Y_train.shape, Y_test.shape)"
   ]
  },
  {
   "cell_type": "markdown",
   "metadata": {},
   "source": [
    "## Step 2: Use the data generated in Step 1 to construct the classification model \n",
    "* Desicion Tree is used\n",
    "    * Accuracy = 99% \n"
   ]
  },
  {
   "cell_type": "code",
   "execution_count": 7,
   "metadata": {},
   "outputs": [
    {
     "name": "stdout",
     "output_type": "stream",
     "text": [
      "Accuracy =  1.0\n"
     ]
    }
   ],
   "source": [
    "clf = tree.DecisionTreeClassifier()\n",
    "clf = clf.fit(X_train, Y_train)\n",
    "y = clf.predict(X_test)\n",
    "print('Accuracy = ', accuracy_score(y, Y_test))"
   ]
  },
  {
   "cell_type": "markdown",
   "metadata": {},
   "source": [
    "Visualization with graphviz"
   ]
  },
  {
   "cell_type": "code",
   "execution_count": 8,
   "metadata": {},
   "outputs": [
    {
     "data": {
      "image/svg+xml": [
       "<?xml version=\"1.0\" encoding=\"UTF-8\" standalone=\"no\"?>\n",
       "<!DOCTYPE svg PUBLIC \"-//W3C//DTD SVG 1.1//EN\"\n",
       " \"http://www.w3.org/Graphics/SVG/1.1/DTD/svg11.dtd\">\n",
       "<!-- Generated by graphviz version 2.38.0 (20140413.2041)\n",
       " -->\n",
       "<!-- Title: Tree Pages: 1 -->\n",
       "<svg width=\"391pt\" height=\"909pt\"\n",
       " viewBox=\"0.00 0.00 390.50 909.00\" xmlns=\"http://www.w3.org/2000/svg\" xmlns:xlink=\"http://www.w3.org/1999/xlink\">\n",
       "<g id=\"graph0\" class=\"graph\" transform=\"scale(1 1) rotate(0) translate(4 905)\">\n",
       "<title>Tree</title>\n",
       "<polygon fill=\"white\" stroke=\"none\" points=\"-4,4 -4,-905 386.5,-905 386.5,4 -4,4\"/>\n",
       "<!-- 0 -->\n",
       "<g id=\"node1\" class=\"node\"><title>0</title>\n",
       "<path fill=\"#e58139\" fill-opacity=\"0.956863\" stroke=\"black\" d=\"M313.5,-901C313.5,-901 205.5,-901 205.5,-901 199.5,-901 193.5,-895 193.5,-889 193.5,-889 193.5,-830 193.5,-830 193.5,-824 199.5,-818 205.5,-818 205.5,-818 313.5,-818 313.5,-818 319.5,-818 325.5,-824 325.5,-830 325.5,-830 325.5,-889 325.5,-889 325.5,-895 319.5,-901 313.5,-901\"/>\n",
       "<text text-anchor=\"start\" x=\"207.5\" y=\"-885.8\" font-family=\"Helvetica,sans-Serif\" font-size=\"14.00\">Height ≤ 170.075</text>\n",
       "<text text-anchor=\"start\" x=\"227.5\" y=\"-870.8\" font-family=\"Helvetica,sans-Serif\" font-size=\"14.00\">gini = 0.08</text>\n",
       "<text text-anchor=\"start\" x=\"211\" y=\"-855.8\" font-family=\"Helvetica,sans-Serif\" font-size=\"14.00\">samples = 6700</text>\n",
       "<text text-anchor=\"start\" x=\"201.5\" y=\"-840.8\" font-family=\"Helvetica,sans-Serif\" font-size=\"14.00\">value = [6421, 279]</text>\n",
       "<text text-anchor=\"start\" x=\"225.5\" y=\"-825.8\" font-family=\"Helvetica,sans-Serif\" font-size=\"14.00\">class = yes</text>\n",
       "</g>\n",
       "<!-- 1 -->\n",
       "<g id=\"node2\" class=\"node\"><title>1</title>\n",
       "<path fill=\"#e58139\" fill-opacity=\"0.988235\" stroke=\"black\" d=\"M242,-782C242,-782 141,-782 141,-782 135,-782 129,-776 129,-770 129,-770 129,-711 129,-711 129,-705 135,-699 141,-699 141,-699 242,-699 242,-699 248,-699 254,-705 254,-711 254,-711 254,-770 254,-770 254,-776 248,-782 242,-782\"/>\n",
       "<text text-anchor=\"start\" x=\"159\" y=\"-766.8\" font-family=\"Helvetica,sans-Serif\" font-size=\"14.00\">IQ ≤ 120.5</text>\n",
       "<text text-anchor=\"start\" x=\"156\" y=\"-751.8\" font-family=\"Helvetica,sans-Serif\" font-size=\"14.00\">gini = 0.021</text>\n",
       "<text text-anchor=\"start\" x=\"143\" y=\"-736.8\" font-family=\"Helvetica,sans-Serif\" font-size=\"14.00\">samples = 6490</text>\n",
       "<text text-anchor=\"start\" x=\"137\" y=\"-721.8\" font-family=\"Helvetica,sans-Serif\" font-size=\"14.00\">value = [6421, 69]</text>\n",
       "<text text-anchor=\"start\" x=\"157.5\" y=\"-706.8\" font-family=\"Helvetica,sans-Serif\" font-size=\"14.00\">class = yes</text>\n",
       "</g>\n",
       "<!-- 0&#45;&gt;1 -->\n",
       "<g id=\"edge1\" class=\"edge\"><title>0&#45;&gt;1</title>\n",
       "<path fill=\"none\" stroke=\"black\" d=\"M235.908,-817.907C230.844,-809.195 225.44,-799.897 220.207,-790.893\"/>\n",
       "<polygon fill=\"black\" stroke=\"black\" points=\"223.102,-788.908 215.051,-782.021 217.049,-792.425 223.102,-788.908\"/>\n",
       "<text text-anchor=\"middle\" x=\"208.65\" y=\"-802.487\" font-family=\"Helvetica,sans-Serif\" font-size=\"14.00\">True</text>\n",
       "</g>\n",
       "<!-- 14 -->\n",
       "<g id=\"node15\" class=\"node\"><title>14</title>\n",
       "<path fill=\"#399de5\" stroke=\"black\" d=\"M370.5,-774.5C370.5,-774.5 284.5,-774.5 284.5,-774.5 278.5,-774.5 272.5,-768.5 272.5,-762.5 272.5,-762.5 272.5,-718.5 272.5,-718.5 272.5,-712.5 278.5,-706.5 284.5,-706.5 284.5,-706.5 370.5,-706.5 370.5,-706.5 376.5,-706.5 382.5,-712.5 382.5,-718.5 382.5,-718.5 382.5,-762.5 382.5,-762.5 382.5,-768.5 376.5,-774.5 370.5,-774.5\"/>\n",
       "<text text-anchor=\"start\" x=\"299.5\" y=\"-759.3\" font-family=\"Helvetica,sans-Serif\" font-size=\"14.00\">gini = 0.0</text>\n",
       "<text text-anchor=\"start\" x=\"282.5\" y=\"-744.3\" font-family=\"Helvetica,sans-Serif\" font-size=\"14.00\">samples = 210</text>\n",
       "<text text-anchor=\"start\" x=\"280.5\" y=\"-729.3\" font-family=\"Helvetica,sans-Serif\" font-size=\"14.00\">value = [0, 210]</text>\n",
       "<text text-anchor=\"start\" x=\"296.5\" y=\"-714.3\" font-family=\"Helvetica,sans-Serif\" font-size=\"14.00\">class = no</text>\n",
       "</g>\n",
       "<!-- 0&#45;&gt;14 -->\n",
       "<g id=\"edge14\" class=\"edge\"><title>0&#45;&gt;14</title>\n",
       "<path fill=\"none\" stroke=\"black\" d=\"M283.092,-817.907C289.57,-806.763 296.605,-794.658 303.125,-783.439\"/>\n",
       "<polygon fill=\"black\" stroke=\"black\" points=\"306.225,-785.072 308.223,-774.667 300.172,-781.554 306.225,-785.072\"/>\n",
       "<text text-anchor=\"middle\" x=\"314.624\" y=\"-795.134\" font-family=\"Helvetica,sans-Serif\" font-size=\"14.00\">False</text>\n",
       "</g>\n",
       "<!-- 2 -->\n",
       "<g id=\"node3\" class=\"node\"><title>2</title>\n",
       "<path fill=\"#e58139\" fill-opacity=\"0.996078\" stroke=\"black\" d=\"M176,-663C176,-663 75,-663 75,-663 69,-663 63,-657 63,-651 63,-651 63,-592 63,-592 63,-586 69,-580 75,-580 75,-580 176,-580 176,-580 182,-580 188,-586 188,-592 188,-592 188,-651 188,-651 188,-657 182,-663 176,-663\"/>\n",
       "<text text-anchor=\"start\" x=\"96.5\" y=\"-647.8\" font-family=\"Helvetica,sans-Serif\" font-size=\"14.00\">IQ ≤ 79.5</text>\n",
       "<text text-anchor=\"start\" x=\"90\" y=\"-632.8\" font-family=\"Helvetica,sans-Serif\" font-size=\"14.00\">gini = 0.009</text>\n",
       "<text text-anchor=\"start\" x=\"77\" y=\"-617.8\" font-family=\"Helvetica,sans-Serif\" font-size=\"14.00\">samples = 6450</text>\n",
       "<text text-anchor=\"start\" x=\"71\" y=\"-602.8\" font-family=\"Helvetica,sans-Serif\" font-size=\"14.00\">value = [6421, 29]</text>\n",
       "<text text-anchor=\"start\" x=\"91.5\" y=\"-587.8\" font-family=\"Helvetica,sans-Serif\" font-size=\"14.00\">class = yes</text>\n",
       "</g>\n",
       "<!-- 1&#45;&gt;2 -->\n",
       "<g id=\"edge2\" class=\"edge\"><title>1&#45;&gt;2</title>\n",
       "<path fill=\"none\" stroke=\"black\" d=\"M168.602,-698.907C163.687,-690.195 158.442,-680.897 153.363,-671.893\"/>\n",
       "<polygon fill=\"black\" stroke=\"black\" points=\"156.32,-670.011 148.358,-663.021 150.223,-673.45 156.32,-670.011\"/>\n",
       "</g>\n",
       "<!-- 13 -->\n",
       "<g id=\"node14\" class=\"node\"><title>13</title>\n",
       "<path fill=\"#399de5\" stroke=\"black\" d=\"M296.5,-655.5C296.5,-655.5 218.5,-655.5 218.5,-655.5 212.5,-655.5 206.5,-649.5 206.5,-643.5 206.5,-643.5 206.5,-599.5 206.5,-599.5 206.5,-593.5 212.5,-587.5 218.5,-587.5 218.5,-587.5 296.5,-587.5 296.5,-587.5 302.5,-587.5 308.5,-593.5 308.5,-599.5 308.5,-599.5 308.5,-643.5 308.5,-643.5 308.5,-649.5 302.5,-655.5 296.5,-655.5\"/>\n",
       "<text text-anchor=\"start\" x=\"229.5\" y=\"-640.3\" font-family=\"Helvetica,sans-Serif\" font-size=\"14.00\">gini = 0.0</text>\n",
       "<text text-anchor=\"start\" x=\"216.5\" y=\"-625.3\" font-family=\"Helvetica,sans-Serif\" font-size=\"14.00\">samples = 40</text>\n",
       "<text text-anchor=\"start\" x=\"214.5\" y=\"-610.3\" font-family=\"Helvetica,sans-Serif\" font-size=\"14.00\">value = [0, 40]</text>\n",
       "<text text-anchor=\"start\" x=\"226.5\" y=\"-595.3\" font-family=\"Helvetica,sans-Serif\" font-size=\"14.00\">class = no</text>\n",
       "</g>\n",
       "<!-- 1&#45;&gt;13 -->\n",
       "<g id=\"edge13\" class=\"edge\"><title>1&#45;&gt;13</title>\n",
       "<path fill=\"none\" stroke=\"black\" d=\"M214.398,-698.907C220.685,-687.763 227.513,-675.658 233.842,-664.439\"/>\n",
       "<polygon fill=\"black\" stroke=\"black\" points=\"236.926,-666.096 238.79,-655.667 230.829,-662.657 236.926,-666.096\"/>\n",
       "</g>\n",
       "<!-- 3 -->\n",
       "<g id=\"node4\" class=\"node\"><title>3</title>\n",
       "<path fill=\"#e58139\" stroke=\"black\" d=\"M105,-536.5C105,-536.5 12,-536.5 12,-536.5 6,-536.5 -7.10543e-15,-530.5 -7.10543e-15,-524.5 -7.10543e-15,-524.5 -7.10543e-15,-480.5 -7.10543e-15,-480.5 -7.10543e-15,-474.5 6,-468.5 12,-468.5 12,-468.5 105,-468.5 105,-468.5 111,-468.5 117,-474.5 117,-480.5 117,-480.5 117,-524.5 117,-524.5 117,-530.5 111,-536.5 105,-536.5\"/>\n",
       "<text text-anchor=\"start\" x=\"30.5\" y=\"-521.3\" font-family=\"Helvetica,sans-Serif\" font-size=\"14.00\">gini = 0.0</text>\n",
       "<text text-anchor=\"start\" x=\"10\" y=\"-506.3\" font-family=\"Helvetica,sans-Serif\" font-size=\"14.00\">samples = 6253</text>\n",
       "<text text-anchor=\"start\" x=\"8\" y=\"-491.3\" font-family=\"Helvetica,sans-Serif\" font-size=\"14.00\">value = [6253, 0]</text>\n",
       "<text text-anchor=\"start\" x=\"24.5\" y=\"-476.3\" font-family=\"Helvetica,sans-Serif\" font-size=\"14.00\">class = yes</text>\n",
       "</g>\n",
       "<!-- 2&#45;&gt;3 -->\n",
       "<g id=\"edge3\" class=\"edge\"><title>2&#45;&gt;3</title>\n",
       "<path fill=\"none\" stroke=\"black\" d=\"M102.255,-579.907C95.8726,-568.763 88.941,-556.658 82.5165,-545.439\"/>\n",
       "<polygon fill=\"black\" stroke=\"black\" points=\"85.4997,-543.606 77.493,-536.667 79.4252,-547.084 85.4997,-543.606\"/>\n",
       "</g>\n",
       "<!-- 4 -->\n",
       "<g id=\"node5\" class=\"node\"><title>4</title>\n",
       "<path fill=\"#e58139\" fill-opacity=\"0.827451\" stroke=\"black\" d=\"M240,-544C240,-544 147,-544 147,-544 141,-544 135,-538 135,-532 135,-532 135,-473 135,-473 135,-467 141,-461 147,-461 147,-461 240,-461 240,-461 246,-461 252,-467 252,-473 252,-473 252,-532 252,-532 252,-538 246,-544 240,-544\"/>\n",
       "<text text-anchor=\"start\" x=\"148\" y=\"-528.8\" font-family=\"Helvetica,sans-Serif\" font-size=\"14.00\">Kindness ≤ 0.5</text>\n",
       "<text text-anchor=\"start\" x=\"158\" y=\"-513.8\" font-family=\"Helvetica,sans-Serif\" font-size=\"14.00\">gini = 0.251</text>\n",
       "<text text-anchor=\"start\" x=\"148.5\" y=\"-498.8\" font-family=\"Helvetica,sans-Serif\" font-size=\"14.00\">samples = 197</text>\n",
       "<text text-anchor=\"start\" x=\"143\" y=\"-483.8\" font-family=\"Helvetica,sans-Serif\" font-size=\"14.00\">value = [168, 29]</text>\n",
       "<text text-anchor=\"start\" x=\"159.5\" y=\"-468.8\" font-family=\"Helvetica,sans-Serif\" font-size=\"14.00\">class = yes</text>\n",
       "</g>\n",
       "<!-- 2&#45;&gt;4 -->\n",
       "<g id=\"edge4\" class=\"edge\"><title>2&#45;&gt;4</title>\n",
       "<path fill=\"none\" stroke=\"black\" d=\"M149.092,-579.907C154.156,-571.195 159.56,-561.897 164.793,-552.893\"/>\n",
       "<polygon fill=\"black\" stroke=\"black\" points=\"167.951,-554.425 169.949,-544.021 161.898,-550.908 167.951,-554.425\"/>\n",
       "</g>\n",
       "<!-- 5 -->\n",
       "<g id=\"node6\" class=\"node\"><title>5</title>\n",
       "<path fill=\"#e58139\" stroke=\"black\" d=\"M172.5,-417.5C172.5,-417.5 86.5,-417.5 86.5,-417.5 80.5,-417.5 74.5,-411.5 74.5,-405.5 74.5,-405.5 74.5,-361.5 74.5,-361.5 74.5,-355.5 80.5,-349.5 86.5,-349.5 86.5,-349.5 172.5,-349.5 172.5,-349.5 178.5,-349.5 184.5,-355.5 184.5,-361.5 184.5,-361.5 184.5,-405.5 184.5,-405.5 184.5,-411.5 178.5,-417.5 172.5,-417.5\"/>\n",
       "<text text-anchor=\"start\" x=\"101.5\" y=\"-402.3\" font-family=\"Helvetica,sans-Serif\" font-size=\"14.00\">gini = 0.0</text>\n",
       "<text text-anchor=\"start\" x=\"84.5\" y=\"-387.3\" font-family=\"Helvetica,sans-Serif\" font-size=\"14.00\">samples = 100</text>\n",
       "<text text-anchor=\"start\" x=\"82.5\" y=\"-372.3\" font-family=\"Helvetica,sans-Serif\" font-size=\"14.00\">value = [100, 0]</text>\n",
       "<text text-anchor=\"start\" x=\"95.5\" y=\"-357.3\" font-family=\"Helvetica,sans-Serif\" font-size=\"14.00\">class = yes</text>\n",
       "</g>\n",
       "<!-- 4&#45;&gt;5 -->\n",
       "<g id=\"edge5\" class=\"edge\"><title>4&#45;&gt;5</title>\n",
       "<path fill=\"none\" stroke=\"black\" d=\"M171.296,-460.907C165.26,-449.873 158.709,-437.898 152.624,-426.773\"/>\n",
       "<polygon fill=\"black\" stroke=\"black\" points=\"155.512,-424.76 147.643,-417.667 149.371,-428.12 155.512,-424.76\"/>\n",
       "</g>\n",
       "<!-- 6 -->\n",
       "<g id=\"node7\" class=\"node\"><title>6</title>\n",
       "<path fill=\"#e58139\" fill-opacity=\"0.572549\" stroke=\"black\" d=\"M300.5,-425C300.5,-425 214.5,-425 214.5,-425 208.5,-425 202.5,-419 202.5,-413 202.5,-413 202.5,-354 202.5,-354 202.5,-348 208.5,-342 214.5,-342 214.5,-342 300.5,-342 300.5,-342 306.5,-342 312.5,-348 312.5,-354 312.5,-354 312.5,-413 312.5,-413 312.5,-419 306.5,-425 300.5,-425\"/>\n",
       "<text text-anchor=\"start\" x=\"211\" y=\"-409.8\" font-family=\"Helvetica,sans-Serif\" font-size=\"14.00\">Weight ≤ 101.5</text>\n",
       "<text text-anchor=\"start\" x=\"222\" y=\"-394.8\" font-family=\"Helvetica,sans-Serif\" font-size=\"14.00\">gini = 0.419</text>\n",
       "<text text-anchor=\"start\" x=\"216.5\" y=\"-379.8\" font-family=\"Helvetica,sans-Serif\" font-size=\"14.00\">samples = 97</text>\n",
       "<text text-anchor=\"start\" x=\"210.5\" y=\"-364.8\" font-family=\"Helvetica,sans-Serif\" font-size=\"14.00\">value = [68, 29]</text>\n",
       "<text text-anchor=\"start\" x=\"223.5\" y=\"-349.8\" font-family=\"Helvetica,sans-Serif\" font-size=\"14.00\">class = yes</text>\n",
       "</g>\n",
       "<!-- 4&#45;&gt;6 -->\n",
       "<g id=\"edge6\" class=\"edge\"><title>4&#45;&gt;6</title>\n",
       "<path fill=\"none\" stroke=\"black\" d=\"M215.704,-460.907C220.47,-452.195 225.556,-442.897 230.481,-433.893\"/>\n",
       "<polygon fill=\"black\" stroke=\"black\" points=\"233.606,-435.474 235.335,-425.021 227.465,-432.114 233.606,-435.474\"/>\n",
       "</g>\n",
       "<!-- 7 -->\n",
       "<g id=\"node8\" class=\"node\"><title>7</title>\n",
       "<path fill=\"#e58139\" fill-opacity=\"0.121569\" stroke=\"black\" d=\"M238.5,-306C238.5,-306 152.5,-306 152.5,-306 146.5,-306 140.5,-300 140.5,-294 140.5,-294 140.5,-235 140.5,-235 140.5,-229 146.5,-223 152.5,-223 152.5,-223 238.5,-223 238.5,-223 244.5,-223 250.5,-229 250.5,-235 250.5,-235 250.5,-294 250.5,-294 250.5,-300 244.5,-306 238.5,-306\"/>\n",
       "<text text-anchor=\"start\" x=\"153\" y=\"-290.8\" font-family=\"Helvetica,sans-Serif\" font-size=\"14.00\">Weight ≤ 50.0</text>\n",
       "<text text-anchor=\"start\" x=\"160\" y=\"-275.8\" font-family=\"Helvetica,sans-Serif\" font-size=\"14.00\">gini = 0.498</text>\n",
       "<text text-anchor=\"start\" x=\"154.5\" y=\"-260.8\" font-family=\"Helvetica,sans-Serif\" font-size=\"14.00\">samples = 62</text>\n",
       "<text text-anchor=\"start\" x=\"148.5\" y=\"-245.8\" font-family=\"Helvetica,sans-Serif\" font-size=\"14.00\">value = [33, 29]</text>\n",
       "<text text-anchor=\"start\" x=\"161.5\" y=\"-230.8\" font-family=\"Helvetica,sans-Serif\" font-size=\"14.00\">class = yes</text>\n",
       "</g>\n",
       "<!-- 6&#45;&gt;7 -->\n",
       "<g id=\"edge7\" class=\"edge\"><title>6&#45;&gt;7</title>\n",
       "<path fill=\"none\" stroke=\"black\" d=\"M235.989,-341.907C231.373,-333.195 226.445,-323.897 221.674,-314.893\"/>\n",
       "<polygon fill=\"black\" stroke=\"black\" points=\"224.748,-313.218 216.973,-306.021 218.562,-316.496 224.748,-313.218\"/>\n",
       "</g>\n",
       "<!-- 12 -->\n",
       "<g id=\"node13\" class=\"node\"><title>12</title>\n",
       "<path fill=\"#e58139\" stroke=\"black\" d=\"M358.5,-298.5C358.5,-298.5 280.5,-298.5 280.5,-298.5 274.5,-298.5 268.5,-292.5 268.5,-286.5 268.5,-286.5 268.5,-242.5 268.5,-242.5 268.5,-236.5 274.5,-230.5 280.5,-230.5 280.5,-230.5 358.5,-230.5 358.5,-230.5 364.5,-230.5 370.5,-236.5 370.5,-242.5 370.5,-242.5 370.5,-286.5 370.5,-286.5 370.5,-292.5 364.5,-298.5 358.5,-298.5\"/>\n",
       "<text text-anchor=\"start\" x=\"291.5\" y=\"-283.3\" font-family=\"Helvetica,sans-Serif\" font-size=\"14.00\">gini = 0.0</text>\n",
       "<text text-anchor=\"start\" x=\"278.5\" y=\"-268.3\" font-family=\"Helvetica,sans-Serif\" font-size=\"14.00\">samples = 35</text>\n",
       "<text text-anchor=\"start\" x=\"276.5\" y=\"-253.3\" font-family=\"Helvetica,sans-Serif\" font-size=\"14.00\">value = [35, 0]</text>\n",
       "<text text-anchor=\"start\" x=\"285.5\" y=\"-238.3\" font-family=\"Helvetica,sans-Serif\" font-size=\"14.00\">class = yes</text>\n",
       "</g>\n",
       "<!-- 6&#45;&gt;12 -->\n",
       "<g id=\"edge12\" class=\"edge\"><title>6&#45;&gt;12</title>\n",
       "<path fill=\"none\" stroke=\"black\" d=\"M279.011,-341.907C284.858,-330.873 291.204,-318.898 297.099,-307.773\"/>\n",
       "<polygon fill=\"black\" stroke=\"black\" points=\"300.335,-309.142 301.924,-298.667 294.149,-305.864 300.335,-309.142\"/>\n",
       "</g>\n",
       "<!-- 8 -->\n",
       "<g id=\"node9\" class=\"node\"><title>8</title>\n",
       "<path fill=\"#e58139\" stroke=\"black\" d=\"M171.5,-179.5C171.5,-179.5 93.5,-179.5 93.5,-179.5 87.5,-179.5 81.5,-173.5 81.5,-167.5 81.5,-167.5 81.5,-123.5 81.5,-123.5 81.5,-117.5 87.5,-111.5 93.5,-111.5 93.5,-111.5 171.5,-111.5 171.5,-111.5 177.5,-111.5 183.5,-117.5 183.5,-123.5 183.5,-123.5 183.5,-167.5 183.5,-167.5 183.5,-173.5 177.5,-179.5 171.5,-179.5\"/>\n",
       "<text text-anchor=\"start\" x=\"104.5\" y=\"-164.3\" font-family=\"Helvetica,sans-Serif\" font-size=\"14.00\">gini = 0.0</text>\n",
       "<text text-anchor=\"start\" x=\"91.5\" y=\"-149.3\" font-family=\"Helvetica,sans-Serif\" font-size=\"14.00\">samples = 32</text>\n",
       "<text text-anchor=\"start\" x=\"89.5\" y=\"-134.3\" font-family=\"Helvetica,sans-Serif\" font-size=\"14.00\">value = [32, 0]</text>\n",
       "<text text-anchor=\"start\" x=\"98.5\" y=\"-119.3\" font-family=\"Helvetica,sans-Serif\" font-size=\"14.00\">class = yes</text>\n",
       "</g>\n",
       "<!-- 7&#45;&gt;8 -->\n",
       "<g id=\"edge8\" class=\"edge\"><title>7&#45;&gt;8</title>\n",
       "<path fill=\"none\" stroke=\"black\" d=\"M173.642,-222.907C167.701,-211.873 161.253,-199.898 155.262,-188.773\"/>\n",
       "<polygon fill=\"black\" stroke=\"black\" points=\"158.182,-186.812 150.359,-179.667 152.019,-190.131 158.182,-186.812\"/>\n",
       "</g>\n",
       "<!-- 9 -->\n",
       "<g id=\"node10\" class=\"node\"><title>9</title>\n",
       "<path fill=\"#399de5\" fill-opacity=\"0.964706\" stroke=\"black\" d=\"M303,-187C303,-187 214,-187 214,-187 208,-187 202,-181 202,-175 202,-175 202,-116 202,-116 202,-110 208,-104 214,-104 214,-104 303,-104 303,-104 309,-104 315,-110 315,-116 315,-116 315,-175 315,-175 315,-181 309,-187 303,-187\"/>\n",
       "<text text-anchor=\"start\" x=\"210\" y=\"-171.8\" font-family=\"Helvetica,sans-Serif\" font-size=\"14.00\">Height ≤ 156.83</text>\n",
       "<text text-anchor=\"start\" x=\"223\" y=\"-156.8\" font-family=\"Helvetica,sans-Serif\" font-size=\"14.00\">gini = 0.064</text>\n",
       "<text text-anchor=\"start\" x=\"217.5\" y=\"-141.8\" font-family=\"Helvetica,sans-Serif\" font-size=\"14.00\">samples = 30</text>\n",
       "<text text-anchor=\"start\" x=\"215.5\" y=\"-126.8\" font-family=\"Helvetica,sans-Serif\" font-size=\"14.00\">value = [1, 29]</text>\n",
       "<text text-anchor=\"start\" x=\"227.5\" y=\"-111.8\" font-family=\"Helvetica,sans-Serif\" font-size=\"14.00\">class = no</text>\n",
       "</g>\n",
       "<!-- 7&#45;&gt;9 -->\n",
       "<g id=\"edge9\" class=\"edge\"><title>7&#45;&gt;9</title>\n",
       "<path fill=\"none\" stroke=\"black\" d=\"M217.358,-222.907C222.049,-214.195 227.056,-204.897 231.904,-195.893\"/>\n",
       "<polygon fill=\"black\" stroke=\"black\" points=\"235.022,-197.485 236.681,-187.021 228.858,-194.166 235.022,-197.485\"/>\n",
       "</g>\n",
       "<!-- 10 -->\n",
       "<g id=\"node11\" class=\"node\"><title>10</title>\n",
       "<path fill=\"#e58139\" stroke=\"black\" d=\"M235,-68C235,-68 164,-68 164,-68 158,-68 152,-62 152,-56 152,-56 152,-12 152,-12 152,-6 158,-0 164,-0 164,-0 235,-0 235,-0 241,-0 247,-6 247,-12 247,-12 247,-56 247,-56 247,-62 241,-68 235,-68\"/>\n",
       "<text text-anchor=\"start\" x=\"171.5\" y=\"-52.8\" font-family=\"Helvetica,sans-Serif\" font-size=\"14.00\">gini = 0.0</text>\n",
       "<text text-anchor=\"start\" x=\"162\" y=\"-37.8\" font-family=\"Helvetica,sans-Serif\" font-size=\"14.00\">samples = 1</text>\n",
       "<text text-anchor=\"start\" x=\"160\" y=\"-22.8\" font-family=\"Helvetica,sans-Serif\" font-size=\"14.00\">value = [1, 0]</text>\n",
       "<text text-anchor=\"start\" x=\"165.5\" y=\"-7.8\" font-family=\"Helvetica,sans-Serif\" font-size=\"14.00\">class = yes</text>\n",
       "</g>\n",
       "<!-- 9&#45;&gt;10 -->\n",
       "<g id=\"edge10\" class=\"edge\"><title>9&#45;&gt;10</title>\n",
       "<path fill=\"none\" stroke=\"black\" d=\"M236.531,-103.726C231.862,-95.0615 226.924,-85.8962 222.227,-77.1802\"/>\n",
       "<polygon fill=\"black\" stroke=\"black\" points=\"225.267,-75.4428 217.442,-68.2996 219.104,-78.7632 225.267,-75.4428\"/>\n",
       "</g>\n",
       "<!-- 11 -->\n",
       "<g id=\"node12\" class=\"node\"><title>11</title>\n",
       "<path fill=\"#399de5\" stroke=\"black\" d=\"M355.5,-68C355.5,-68 277.5,-68 277.5,-68 271.5,-68 265.5,-62 265.5,-56 265.5,-56 265.5,-12 265.5,-12 265.5,-6 271.5,-0 277.5,-0 277.5,-0 355.5,-0 355.5,-0 361.5,-0 367.5,-6 367.5,-12 367.5,-12 367.5,-56 367.5,-56 367.5,-62 361.5,-68 355.5,-68\"/>\n",
       "<text text-anchor=\"start\" x=\"288.5\" y=\"-52.8\" font-family=\"Helvetica,sans-Serif\" font-size=\"14.00\">gini = 0.0</text>\n",
       "<text text-anchor=\"start\" x=\"275.5\" y=\"-37.8\" font-family=\"Helvetica,sans-Serif\" font-size=\"14.00\">samples = 29</text>\n",
       "<text text-anchor=\"start\" x=\"273.5\" y=\"-22.8\" font-family=\"Helvetica,sans-Serif\" font-size=\"14.00\">value = [0, 29]</text>\n",
       "<text text-anchor=\"start\" x=\"285.5\" y=\"-7.8\" font-family=\"Helvetica,sans-Serif\" font-size=\"14.00\">class = no</text>\n",
       "</g>\n",
       "<!-- 9&#45;&gt;11 -->\n",
       "<g id=\"edge11\" class=\"edge\"><title>9&#45;&gt;11</title>\n",
       "<path fill=\"none\" stroke=\"black\" d=\"M280.097,-103.726C284.687,-95.0615 289.541,-85.8962 294.158,-77.1802\"/>\n",
       "<polygon fill=\"black\" stroke=\"black\" points=\"297.274,-78.7748 298.862,-68.2996 291.088,-75.4982 297.274,-78.7748\"/>\n",
       "</g>\n",
       "</g>\n",
       "</svg>\n"
      ],
      "text/plain": [
       "<graphviz.files.Source at 0x7f70d2ee4828>"
      ]
     },
     "execution_count": 8,
     "metadata": {},
     "output_type": "execute_result"
    }
   ],
   "source": [
    "src = Source('digraph \"the holy hand grenade\" { rankdir=LR; 1 -> 2 -> 3 -> lob }')\n",
    "dot_data = tree.export_graphviz(clf, out_file=None, \n",
    "                     feature_names=['Height', 'Weight', 'Kindness', 'IQ', 'Smoker'],  \n",
    "                     class_names=['yes', 'no'],  \n",
    "                     filled=True, rounded=True,  \n",
    "                     special_characters=True)   \n",
    "graph = graphviz.Source(dot_data) \n",
    "graph.render(\"rule\") \n",
    "graphviz.Source(dot_data) "
   ]
  },
  {
   "cell_type": "markdown",
   "metadata": {},
   "source": [
    "## Step 3: Compare the rules in the decision tree from Step 2 and the rules used to generate the  ‘absolutely right’ data "
   ]
  },
  {
   "cell_type": "markdown",
   "metadata": {},
   "source": [
    "### The absolutely right rule\n",
    "* Height (>170cm) and Weight(>50kg, <100kg) and Kindness(yes) and IQ(>80) and Smoker(no) --->>> Charming(yes)\n",
    "\n",
    "### The rule generated from the Decision Tree\n",
    "* Height(<160.15) and Weight(<50.5) and Kindness(no) --->>> Charming(no)\n",
    "\n",
    "### Discussion\n",
    "The rule generated from the Decision Tree are similiar to The absolutely right rule\n",
    "\n",
    "Since the data is generated randomly, there are affecting the final result \n",
    "\n",
    "In the result of Decision tree, the level of IQ and whether is a smoker are not included in the consideration of being Charming"
   ]
  },
  {
   "cell_type": "markdown",
   "metadata": {},
   "source": [
    "## Step 4: Discuss anything you can "
   ]
  },
  {
   "cell_type": "markdown",
   "metadata": {},
   "source": [
    "### Random Forest"
   ]
  },
  {
   "cell_type": "code",
   "execution_count": 17,
   "metadata": {},
   "outputs": [
    {
     "name": "stdout",
     "output_type": "stream",
     "text": [
      "Accuracy =  0.9981818181818182\n"
     ]
    },
    {
     "name": "stderr",
     "output_type": "stream",
     "text": [
      "/usr/local/lib/python3.5/dist-packages/ipykernel_launcher.py:2: DataConversionWarning: A column-vector y was passed when a 1d array was expected. Please change the shape of y to (n_samples,), for example using ravel().\n",
      "  \n"
     ]
    }
   ],
   "source": [
    "clf_rf = RandomForestClassifier(n_estimators=100, max_depth=2,random_state=0)\n",
    "clf_rf.fit(X_train, Y_train)\n",
    "y_rf = clf_rf.predict(X_test)\n",
    "print('Accuracy = ', accuracy_score(y_rf, Y_test))"
   ]
  },
  {
   "cell_type": "markdown",
   "metadata": {},
   "source": [
    "Accuracy of using Random Forest is 99.8% which is slightly lower than that of Decision Tree"
   ]
  },
  {
   "cell_type": "markdown",
   "metadata": {},
   "source": [
    "### Reference\n",
    "* [Decision Tree and Random Forest](https://medium.com/@yehjames/%E8%B3%87%E6%96%99%E5%88%86%E6%9E%90-%E6%A9%9F%E5%99%A8%E5%AD%B8%E7%BF%92-%E7%AC%AC3-5%E8%AC%9B-%E6%B1%BA%E7%AD%96%E6%A8%B9-decision-tree-%E4%BB%A5%E5%8F%8A%E9%9A%A8%E6%A9%9F%E6%A3%AE%E6%9E%97-random-forest-%E4%BB%8B%E7%B4%B9-7079b0ddfbda)\n",
    "* [A brief look at sklearn.tree.DecisionTreeClassifier](https://hackernoon.com/a-brief-look-at-sklearn-tree-decisiontreeclassifier-c2ee262eab9a)\n",
    "\n",
    "\n",
    "\n",
    "\n",
    "\n",
    "\n",
    "\n",
    "\n",
    "\n",
    "\n"
   ]
  },
  {
   "cell_type": "code",
   "execution_count": null,
   "metadata": {},
   "outputs": [],
   "source": []
  },
  {
   "cell_type": "code",
   "execution_count": null,
   "metadata": {},
   "outputs": [],
   "source": []
  }
 ],
 "metadata": {
  "kernelspec": {
   "display_name": "Python 3",
   "language": "python",
   "name": "python3"
  },
  "language_info": {
   "codemirror_mode": {
    "name": "ipython",
    "version": 3
   },
   "file_extension": ".py",
   "mimetype": "text/x-python",
   "name": "python",
   "nbconvert_exporter": "python",
   "pygments_lexer": "ipython3",
   "version": "3.5.2"
  }
 },
 "nbformat": 4,
 "nbformat_minor": 2
}
